{
 "cells": [
  {
   "cell_type": "code",
   "execution_count": 1,
   "id": "f4ed6d5b",
   "metadata": {},
   "outputs": [
    {
     "name": "stdout",
     "output_type": "stream",
     "text": [
      "100% [............................................................................] 837415 / 837415"
     ]
    }
   ],
   "source": [
    "import wget\n",
    "URL = \"http://ovne.org/download/Customer-Churn-Records.csv\"\n",
    "response = wget.download(URL, \"Customer-Churn-Records.csv\")"
   ]
  },
  {
   "cell_type": "code",
   "execution_count": 2,
   "id": "735c491d",
   "metadata": {},
   "outputs": [],
   "source": [
    "import pandas as pd\n",
    "df = pd.read_csv('Customer-Churn-Records.csv', header = 0, na_values =\"NA\", comment ='\\t', sep=',', skipinitialspace = True)\n",
    "df.drop(columns = [\"RowNumber\", \"CustomerId\", \"Surname\", \"Complain\", \"Satisfaction Score\", \"Card Type\",\"Point Earned\" ], inplace = True)\n"
   ]
  },
  {
   "cell_type": "code",
   "execution_count": 3,
   "id": "8f571ed0",
   "metadata": {},
   "outputs": [],
   "source": [
    "from sklearn.preprocessing import LabelEncoder\n",
    "ecd = LabelEncoder()\n",
    "df['Gender'] = ecd.fit_transform(df['Gender'].values)\n",
    "df = pd.get_dummies(df)"
   ]
  },
  {
   "cell_type": "code",
   "execution_count": 4,
   "id": "44b4f544",
   "metadata": {},
   "outputs": [],
   "source": [
    "X = df.drop([\"Exited\"], axis = 1)\n",
    "y = df.Exited"
   ]
  },
  {
   "cell_type": "code",
   "execution_count": 5,
   "id": "4b65f91d",
   "metadata": {},
   "outputs": [],
   "source": [
    "#import all modules and functions\n",
    "from sklearn.model_selection import  train_test_split\n",
    "from sklearn.metrics import accuracy_score\n"
   ]
  },
  {
   "cell_type": "code",
   "execution_count": 6,
   "id": "ee6f7bb0",
   "metadata": {},
   "outputs": [],
   "source": [
    "# split the data into train and test datasets\n",
    "X_train, X_test, y_train, y_test = train_test_split (X, y,test_size=0.20, random_state=43 )"
   ]
  },
  {
   "cell_type": "code",
   "execution_count": 10,
   "id": "b66380e6",
   "metadata": {},
   "outputs": [
    {
     "name": "stdout",
     "output_type": "stream",
     "text": [
      "Accuracy score of decision tree: 0.794\n"
     ]
    }
   ],
   "source": [
    "from sklearn import tree \n",
    "clf_dt = tree.DecisionTreeClassifier(max_depth = 1, random_state =0)\n",
    "\n",
    "clf_dt.fit(X_train, y_train)\n",
    "y_pred = clf_dt.predict(X_test)\n",
    "print(\"Accuracy score of decision tree: {}\".format(accuracy_score(y_test, y_pred)))"
   ]
  },
  {
   "cell_type": "code",
   "execution_count": 8,
   "id": "dbcb9e9f",
   "metadata": {},
   "outputs": [
    {
     "name": "stdout",
     "output_type": "stream",
     "text": [
      "Accuracy score of adaboost: 0.834\n"
     ]
    }
   ],
   "source": [
    "from sklearn.ensemble import AdaBoostClassifier\n",
    "\n",
    "# Create a base learner (e.g., a decision tree)\n",
    "base_clf = tree.DecisionTreeClassifier(max_depth=2)\n",
    "\n",
    "# Create an AdaBoostClassifier and specify the base learner\n",
    "adaboost = AdaBoostClassifier(base_estimator=base_clf, n_estimators=100)\n",
    "\n",
    "# Fit the AdaBoost model to your data\n",
    "adaboost.fit(X_train, y_train)\n",
    "\n",
    "# Make predictions with the trained AdaBoost model\n",
    "y_pred_ada = adaboost.predict(X_test)\n",
    "\n",
    "print(\"Accuracy score of adaboost: {}\".format(accuracy_score(y_test, y_pred_ada)))"
   ]
  },
  {
   "cell_type": "code",
   "execution_count": 9,
   "id": "5e15cb2b",
   "metadata": {},
   "outputs": [
    {
     "name": "stdout",
     "output_type": "stream",
     "text": [
      "Accuracy score of adaboost: 0.8545\n"
     ]
    }
   ],
   "source": [
    "from sklearn.ensemble import AdaBoostClassifier\n",
    "\n",
    "# Create a base learner (e.g., a decision tree)\n",
    "base_clf = tree.DecisionTreeClassifier(max_depth=1)\n",
    "\n",
    "# Create an AdaBoostClassifier and specify the base learner\n",
    "adaboost = AdaBoostClassifier(base_estimator=base_clf, n_estimators=100)\n",
    "\n",
    "# Fit the AdaBoost model to your data\n",
    "adaboost.fit(X_train, y_train)\n",
    "\n",
    "# Make predictions with the trained AdaBoost model\n",
    "y_pred_ada = adaboost.predict(X_test)\n",
    "\n",
    "print(\"Accuracy score of adaboost: {}\".format(accuracy_score(y_test, y_pred_ada)))"
   ]
  },
  {
   "cell_type": "code",
   "execution_count": null,
   "id": "3bc9c227",
   "metadata": {},
   "outputs": [],
   "source": []
  },
  {
   "cell_type": "code",
   "execution_count": null,
   "id": "b2b20d35",
   "metadata": {},
   "outputs": [],
   "source": []
  },
  {
   "cell_type": "code",
   "execution_count": null,
   "id": "e2b0d002",
   "metadata": {},
   "outputs": [],
   "source": []
  },
  {
   "cell_type": "code",
   "execution_count": null,
   "id": "18d92b72",
   "metadata": {},
   "outputs": [],
   "source": []
  },
  {
   "cell_type": "code",
   "execution_count": null,
   "id": "d63934dc",
   "metadata": {},
   "outputs": [],
   "source": []
  },
  {
   "cell_type": "code",
   "execution_count": null,
   "id": "68f9c65a",
   "metadata": {},
   "outputs": [],
   "source": []
  }
 ],
 "metadata": {
  "kernelspec": {
   "display_name": "Python 3 (ipykernel)",
   "language": "python",
   "name": "python3"
  },
  "language_info": {
   "codemirror_mode": {
    "name": "ipython",
    "version": 3
   },
   "file_extension": ".py",
   "mimetype": "text/x-python",
   "name": "python",
   "nbconvert_exporter": "python",
   "pygments_lexer": "ipython3",
   "version": "3.9.13"
  }
 },
 "nbformat": 4,
 "nbformat_minor": 5
}
