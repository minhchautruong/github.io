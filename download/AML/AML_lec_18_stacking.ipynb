{
 "cells": [
  {
   "cell_type": "code",
   "execution_count": null,
   "id": "f4ed6d5b",
   "metadata": {},
   "outputs": [],
   "source": [
    "import wget\n",
    "URL = \"http://ovne.org/download/Customer-Churn-Records.csv\"\n",
    "response = wget.download(URL, \"Customer-Churn-Records.csv\")"
   ]
  },
  {
   "cell_type": "code",
   "execution_count": 1,
   "id": "735c491d",
   "metadata": {},
   "outputs": [],
   "source": [
    "import pandas as pd\n",
    "df = pd.read_csv('Customer-Churn-Records.csv', header = 0, na_values =\"NA\", comment ='\\t', sep=',', skipinitialspace = True)\n",
    "df.drop(columns = [\"RowNumber\", \"CustomerId\", \"Surname\", \"Complain\", \"Satisfaction Score\", \"Card Type\",\"Point Earned\" ], inplace = True)"
   ]
  },
  {
   "cell_type": "code",
   "execution_count": 2,
   "id": "38fe203e",
   "metadata": {},
   "outputs": [],
   "source": [
    "from sklearn.preprocessing import LabelEncoder\n",
    "ecd = LabelEncoder()\n",
    "df['Gender'] = ecd.fit_transform(df['Gender'].values)\n",
    "df = pd.get_dummies(df)"
   ]
  },
  {
   "cell_type": "code",
   "execution_count": 3,
   "id": "8e62402b",
   "metadata": {},
   "outputs": [],
   "source": [
    "X = df.drop([\"Exited\"], axis = 1)\n",
    "y = df.Exited"
   ]
  },
  {
   "cell_type": "code",
   "execution_count": 4,
   "id": "4b65f91d",
   "metadata": {},
   "outputs": [],
   "source": [
    "#import all modules and functions\n",
    "from sklearn.model_selection import  train_test_split\n",
    "from sklearn.metrics import accuracy_score\n"
   ]
  },
  {
   "cell_type": "code",
   "execution_count": 5,
   "id": "ee6f7bb0",
   "metadata": {},
   "outputs": [],
   "source": [
    "# split the data into train and test datasets\n",
    "X_train, X_test, y_train, y_test = train_test_split (X, y,test_size=0.20, random_state=43 )"
   ]
  },
  {
   "cell_type": "code",
   "execution_count": 6,
   "id": "bf69bea8",
   "metadata": {},
   "outputs": [
    {
     "name": "stdout",
     "output_type": "stream",
     "text": [
      "Accuracy score of decision tree: 0.8265\n"
     ]
    }
   ],
   "source": [
    "from sklearn.tree import DecisionTreeClassifier\n",
    "clf_dt = DecisionTreeClassifier(max_depth = 2, random_state =0)\n",
    "\n",
    "clf_dt.fit(X_train, y_train)\n",
    "y_pred = clf_dt.predict(X_test)\n",
    "print(\"Accuracy score of decision tree: {}\".format(accuracy_score(y_test, y_pred)))"
   ]
  },
  {
   "cell_type": "code",
   "execution_count": 7,
   "id": "3bc9c227",
   "metadata": {},
   "outputs": [
    {
     "name": "stdout",
     "output_type": "stream",
     "text": [
      "Stacking Accuracy: 0.83\n"
     ]
    }
   ],
   "source": [
    "from sklearn.neighbors import KNeighborsClassifier\n",
    "from sklearn.linear_model import LogisticRegression\n",
    "from sklearn.tree import DecisionTreeClassifier\n",
    "from sklearn.ensemble import StackingClassifier\n",
    "from sklearn.metrics import accuracy_score\n",
    "\n",
    "# Define base models\n",
    "base_models = [\n",
    "    ('knn', KNeighborsClassifier(n_neighbors=3)),\n",
    "    ('dt', DecisionTreeClassifier(max_depth=2, random_state=42))\n",
    "]\n",
    "\n",
    "# Define the meta-model (logistic regression in this example)\n",
    "meta_model = LogisticRegression(max_iter=500, random_state=42)\n",
    "#meta_model = DecisionTreeClassifier(max_depth=2, random_state=42)\n",
    "\n",
    "# Create the StackingClassifier\n",
    "stacking_model = StackingClassifier(estimators=base_models, final_estimator=meta_model)\n",
    "\n",
    "# Fit the stacking model on the training data\n",
    "stacking_model.fit(X_train, y_train)\n",
    "\n",
    "# Make predictions on the test data\n",
    "y_pred = stacking_model.predict(X_test)\n",
    "\n",
    "# Calculate and print the accuracy of the stacking model\n",
    "accuracy = accuracy_score(y_test, y_pred)\n",
    "print(f\"Stacking Accuracy: {accuracy:.2f}\")\n",
    "\n"
   ]
  },
  {
   "cell_type": "code",
   "execution_count": 8,
   "id": "b2b20d35",
   "metadata": {},
   "outputs": [
    {
     "name": "stdout",
     "output_type": "stream",
     "text": [
      "knn Accuracy: 0.74\n",
      "dt Accuracy: 0.83\n"
     ]
    },
    {
     "name": "stderr",
     "output_type": "stream",
     "text": [
      "C:\\ProgramData\\Anaconda3\\lib\\site-packages\\sklearn\\neighbors\\_classification.py:228: FutureWarning: Unlike other reduction functions (e.g. `skew`, `kurtosis`), the default behavior of `mode` typically preserves the axis it acts along. In SciPy 1.11.0, this behavior will change: the default value of `keepdims` will become False, the `axis` over which the statistic is taken will be eliminated, and the value None will no longer be accepted. Set `keepdims` to True or False to avoid this warning.\n",
      "  mode, _ = stats.mode(_y[neigh_ind, k], axis=1)\n"
     ]
    }
   ],
   "source": [
    "# Evaluate and print the accuracy of each base model on the test data\n",
    "for name, model in base_models:\n",
    "    model.fit(X_train, y_train)\n",
    "    y_pred_base = model.predict(X_test)\n",
    "    accuracy_base = accuracy_score(y_test, y_pred_base)\n",
    "    print(f\"{name} Accuracy: {accuracy_base:.2f}\")"
   ]
  },
  {
   "cell_type": "code",
   "execution_count": 9,
   "id": "18d92b72",
   "metadata": {},
   "outputs": [
    {
     "name": "stdout",
     "output_type": "stream",
     "text": [
      "Stacking Accuracy: 0.86\n"
     ]
    }
   ],
   "source": [
    "from sklearn.ensemble import RandomForestClassifier, GradientBoostingClassifier\n",
    "from sklearn.linear_model import LogisticRegression\n",
    "from sklearn.ensemble import StackingClassifier\n",
    "\n",
    "# Define base models\n",
    "base_models = [\n",
    "    ('rf', RandomForestClassifier(n_estimators=100, random_state=42)),\n",
    "    ('gb', GradientBoostingClassifier(n_estimators=100, random_state=42))\n",
    "]\n",
    "\n",
    "# Define the meta-model (logistic regression in this example)\n",
    "meta_model = LogisticRegression()\n",
    "\n",
    "# Create the StackingClassifier\n",
    "stacking_model = StackingClassifier(estimators=base_models, final_estimator=meta_model)\n",
    "\n",
    "# Fit the stacking model on the training data\n",
    "stacking_model.fit(X_train, y_train)\n",
    "\n",
    "# Make predictions on the test data\n",
    "y_pred = stacking_model.predict(X_test)\n",
    "\n",
    "# Calculate and print the accuracy of the stacking model\n",
    "accuracy = accuracy_score(y_test, y_pred)\n",
    "print(f\"Stacking Accuracy: {accuracy:.2f}\")\n"
   ]
  },
  {
   "cell_type": "code",
   "execution_count": 10,
   "id": "d63934dc",
   "metadata": {},
   "outputs": [
    {
     "name": "stdout",
     "output_type": "stream",
     "text": [
      "rf Accuracy: 0.87\n",
      "gb Accuracy: 0.86\n"
     ]
    }
   ],
   "source": [
    "for name, model in base_models:\n",
    "    model.fit(X_train, y_train)\n",
    "    y_pred_base = model.predict(X_test)\n",
    "    accuracy_base = accuracy_score(y_test, y_pred_base)\n",
    "    print(f\"{name} Accuracy: {accuracy_base:.2f}\")"
   ]
  },
  {
   "cell_type": "code",
   "execution_count": null,
   "id": "68f9c65a",
   "metadata": {},
   "outputs": [],
   "source": []
  }
 ],
 "metadata": {
  "kernelspec": {
   "display_name": "Python 3 (ipykernel)",
   "language": "python",
   "name": "python3"
  },
  "language_info": {
   "codemirror_mode": {
    "name": "ipython",
    "version": 3
   },
   "file_extension": ".py",
   "mimetype": "text/x-python",
   "name": "python",
   "nbconvert_exporter": "python",
   "pygments_lexer": "ipython3",
   "version": "3.9.13"
  }
 },
 "nbformat": 4,
 "nbformat_minor": 5
}
