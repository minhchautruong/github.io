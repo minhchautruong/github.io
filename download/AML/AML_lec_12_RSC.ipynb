{
 "cells": [
  {
   "cell_type": "code",
   "execution_count": 1,
   "id": "f4ed6d5b",
   "metadata": {},
   "outputs": [
    {
     "name": "stdout",
     "output_type": "stream",
     "text": [
      "100% [............................................................................] 837415 / 837415"
     ]
    }
   ],
   "source": [
    "import wget\n",
    "URL = \"http://ovne.org/download/Customer-Churn-Records.csv\"\n",
    "response = wget.download(URL, \"Customer-Churn-Records.csv\")"
   ]
  },
  {
   "cell_type": "code",
   "execution_count": 2,
   "id": "735c491d",
   "metadata": {},
   "outputs": [],
   "source": [
    "import pandas as pd\n",
    "df = pd.read_csv('Customer-Churn-Records.csv', header = 0, na_values =\"NA\", comment ='\\t', sep=',', skipinitialspace = True)\n",
    "df.drop(columns = [\"RowNumber\", \"CustomerId\", \"Surname\", \"Complain\", \"Satisfaction Score\", \"Card Type\",\"Point Earned\" ], inplace = True)\n",
    "X = df.drop([\"Exited\"], axis = 1)\n",
    "y = df.Exited\n",
    "dict = {'France':0, 'Germany':1, 'Spain': 2, 'Female':0, 'Male':1}\n",
    "X.replace(dict, inplace = True)"
   ]
  },
  {
   "cell_type": "code",
   "execution_count": 4,
   "id": "4b65f91d",
   "metadata": {},
   "outputs": [],
   "source": [
    "#import all modules and functions\n",
    "from sklearn.model_selection import RandomizedSearchCV, train_test_split\n",
    "from sklearn.neighbors import KNeighborsClassifier\n",
    "from sklearn.tree import DecisionTreeClassifier\n",
    "from sklearn.metrics import accuracy_score\n"
   ]
  },
  {
   "cell_type": "code",
   "execution_count": 5,
   "id": "ee6f7bb0",
   "metadata": {},
   "outputs": [],
   "source": [
    "# split the data into train and test datasets\n",
    "X_train, X_test, y_train, y_test = train_test_split (X, y,test_size=0.20, random_state=43 )"
   ]
  },
  {
   "cell_type": "code",
   "execution_count": 6,
   "id": "22c27881",
   "metadata": {},
   "outputs": [],
   "source": [
    "# Create models\n",
    "knn_model = KNeighborsClassifier()\n",
    "decision_tree_model = DecisionTreeClassifier()\n"
   ]
  },
  {
   "cell_type": "code",
   "execution_count": 7,
   "id": "b4f0f131",
   "metadata": {},
   "outputs": [],
   "source": [
    "# Define parameter grids for both models\n",
    "import numpy as np \n",
    "knn_param_dist = {\n",
    "    'n_neighbors': np.arange(1, 21),  # Randomly select values from 1 to 20\n",
    "    'weights': ['uniform', 'distance']\n",
    "}\n",
    "\n",
    "decision_tree_param_dist = {\n",
    "    'max_depth': [None] + list(np.arange(1, 31)),  # Randomly select values from 1 to 30 or None\n",
    "    'min_samples_split': np.arange(2, 11)  # Randomly select values from 2 to 10\n",
    "}\n",
    "\n",
    "\n",
    "# Create GridSearchCV objects for both models\n",
    "knn = RandomizedSearchCV(estimator=knn_model, param_distributions=knn_param_dist, n_iter=10, scoring='accuracy', cv=5)\n",
    "dt = RandomizedSearchCV(decision_tree_model, param_distributions=decision_tree_param_dist, n_iter=10, scoring='accuracy', cv=5)\n",
    "\n"
   ]
  },
  {
   "cell_type": "code",
   "execution_count": 8,
   "id": "ca734093",
   "metadata": {},
   "outputs": [
    {
     "data": {
      "text/plain": [
       "RandomizedSearchCV(cv=5, estimator=DecisionTreeClassifier(),\n",
       "                   param_distributions={'max_depth': [None, 1, 2, 3, 4, 5, 6, 7,\n",
       "                                                      8, 9, 10, 11, 12, 13, 14,\n",
       "                                                      15, 16, 17, 18, 19, 20,\n",
       "                                                      21, 22, 23, 24, 25, 26,\n",
       "                                                      27, 28, 29, ...],\n",
       "                                        'min_samples_split': array([ 2,  3,  4,  5,  6,  7,  8,  9, 10])},\n",
       "                   scoring='accuracy')"
      ]
     },
     "execution_count": 8,
     "metadata": {},
     "output_type": "execute_result"
    }
   ],
   "source": [
    "# Fit the grid searches to the training data\n",
    "import warnings \n",
    "warnings.simplefilter(action='ignore', category=FutureWarning)\n",
    "knn.fit(X_train, y_train)\n",
    "dt.fit(X_train, y_train)"
   ]
  },
  {
   "cell_type": "code",
   "execution_count": 9,
   "id": "142109c1",
   "metadata": {},
   "outputs": [
    {
     "name": "stdout",
     "output_type": "stream",
     "text": [
      "Best hyperparameters for KNN: {'weights': 'uniform', 'n_neighbors': 18}\n",
      "Best accuracy for KNN: 0.7958749999999999\n"
     ]
    }
   ],
   "source": [
    "# Print the best hyperparameters and their corresponding scores for both models\n",
    "print(\"Best hyperparameters for KNN:\", knn.best_params_)\n",
    "print(\"Best accuracy for KNN:\", knn.best_score_)"
   ]
  },
  {
   "cell_type": "code",
   "execution_count": 10,
   "id": "9a2c3c67",
   "metadata": {},
   "outputs": [
    {
     "name": "stdout",
     "output_type": "stream",
     "text": [
      "Best hyperparameters for Decision Tree: {'min_samples_split': 9, 'max_depth': 9}\n",
      "Best accuracy for Decision Tree: 0.8397500000000001\n"
     ]
    }
   ],
   "source": [
    "print(\"Best hyperparameters for Decision Tree:\", dt.best_params_)\n",
    "print(\"Best accuracy for Decision Tree:\", dt.best_score_)"
   ]
  },
  {
   "cell_type": "code",
   "execution_count": 11,
   "id": "4482cdd6",
   "metadata": {},
   "outputs": [
    {
     "name": "stdout",
     "output_type": "stream",
     "text": [
      "Test accuracy for best KNN model: 0.7925\n",
      "Test accuracy for best Decision Tree model: 0.8455\n"
     ]
    }
   ],
   "source": [
    "# Evaluate the best models on the test data\n",
    "knn_best_model = knn.best_estimator_\n",
    "dt_best_model = dt.best_estimator_\n",
    "\n",
    "knn_test_accuracy = knn_best_model.score(X_test, y_test)\n",
    "decision_tree_test_accuracy = dt_best_model.score(X_test, y_test)\n",
    "\n",
    "print(\"Test accuracy for best KNN model:\", knn_test_accuracy)\n",
    "print(\"Test accuracy for best Decision Tree model:\", decision_tree_test_accuracy)"
   ]
  },
  {
   "cell_type": "code",
   "execution_count": null,
   "id": "f1aab4f0",
   "metadata": {},
   "outputs": [],
   "source": []
  },
  {
   "cell_type": "code",
   "execution_count": null,
   "id": "271730bd",
   "metadata": {},
   "outputs": [],
   "source": []
  },
  {
   "cell_type": "code",
   "execution_count": null,
   "id": "17592f19",
   "metadata": {},
   "outputs": [],
   "source": [
    "\n"
   ]
  },
  {
   "cell_type": "code",
   "execution_count": null,
   "id": "dbcb9e9f",
   "metadata": {},
   "outputs": [],
   "source": []
  },
  {
   "cell_type": "code",
   "execution_count": null,
   "id": "6f4ff8ea",
   "metadata": {},
   "outputs": [],
   "source": []
  },
  {
   "cell_type": "code",
   "execution_count": null,
   "id": "5e15cb2b",
   "metadata": {},
   "outputs": [],
   "source": []
  },
  {
   "cell_type": "code",
   "execution_count": null,
   "id": "3bc9c227",
   "metadata": {},
   "outputs": [],
   "source": []
  },
  {
   "cell_type": "code",
   "execution_count": null,
   "id": "b2b20d35",
   "metadata": {},
   "outputs": [],
   "source": []
  },
  {
   "cell_type": "code",
   "execution_count": null,
   "id": "e2b0d002",
   "metadata": {},
   "outputs": [],
   "source": []
  },
  {
   "cell_type": "code",
   "execution_count": null,
   "id": "18d92b72",
   "metadata": {},
   "outputs": [],
   "source": []
  },
  {
   "cell_type": "code",
   "execution_count": null,
   "id": "d63934dc",
   "metadata": {},
   "outputs": [],
   "source": []
  },
  {
   "cell_type": "code",
   "execution_count": null,
   "id": "68f9c65a",
   "metadata": {},
   "outputs": [],
   "source": []
  }
 ],
 "metadata": {
  "kernelspec": {
   "display_name": "Python 3 (ipykernel)",
   "language": "python",
   "name": "python3"
  },
  "language_info": {
   "codemirror_mode": {
    "name": "ipython",
    "version": 3
   },
   "file_extension": ".py",
   "mimetype": "text/x-python",
   "name": "python",
   "nbconvert_exporter": "python",
   "pygments_lexer": "ipython3",
   "version": "3.9.13"
  }
 },
 "nbformat": 4,
 "nbformat_minor": 5
}
