{
 "cells": [
  {
   "cell_type": "code",
   "execution_count": null,
   "id": "f4ed6d5b",
   "metadata": {},
   "outputs": [],
   "source": [
    "import wget\n",
    "URL = \"http://ovne.org/download/Customer-Churn-Records.csv\"\n",
    "response = wget.download(URL, \"Customer-Churn-Records.csv\")"
   ]
  },
  {
   "cell_type": "code",
   "execution_count": null,
   "id": "6b6e2c92",
   "metadata": {},
   "outputs": [],
   "source": [
    "import pandas as pd\n",
    "df = pd.read_csv('Customer-Churn-Records.csv', header = 0, na_values =\"NA\", comment ='\\t', sep=',', skipinitialspace = True)"
   ]
  },
  {
   "cell_type": "code",
   "execution_count": null,
   "id": "5405f7a4",
   "metadata": {},
   "outputs": [],
   "source": [
    "df.info()"
   ]
  },
  {
   "cell_type": "code",
   "execution_count": null,
   "id": "735c491d",
   "metadata": {},
   "outputs": [],
   "source": [
    "df.drop(columns = [\"RowNumber\", \"CustomerId\", \"Surname\", \"Complain\", \"Satisfaction Score\", \"Card Type\",\"Point Earned\" ], inplace = True)\n",
    "df.info()"
   ]
  },
  {
   "cell_type": "code",
   "execution_count": null,
   "id": "554e4bd5",
   "metadata": {},
   "outputs": [],
   "source": [
    "X = df.drop([\"Exited\"], axis = 1)\n",
    "y = df.Exited"
   ]
  },
  {
   "cell_type": "code",
   "execution_count": null,
   "id": "4e4b9ff3",
   "metadata": {},
   "outputs": [],
   "source": [
    "dict = {'France':0, 'Germany':1, 'Spain': 2, 'Female':0, 'Male':1}\n",
    "X.replace(dict, inplace = True)"
   ]
  },
  {
   "cell_type": "code",
   "execution_count": null,
   "id": "5f6bf8b7",
   "metadata": {},
   "outputs": [],
   "source": [
    "X"
   ]
  },
  {
   "cell_type": "code",
   "execution_count": null,
   "id": "4b65f91d",
   "metadata": {},
   "outputs": [],
   "source": [
    "# split the data into train and test datasets\n",
    "from sklearn.model_selection import train_test_split\n",
    " \n",
    "X_train, X_test, y_train, y_test = train_test_split (X, y,test_size=0.20, random_state=43 )\n",
    " \n",
    "\n",
    "from sklearn import tree \n",
    "from sklearn.model_selection import cross_val_score\n",
    "\n",
    "\n",
    "clf = tree.DecisionTreeClassifier(min_samples_leaf=10)\n",
    "scores = cross_val_score(clf, X_train, y_train, cv=10)\n",
    "scores"
   ]
  },
  {
   "cell_type": "code",
   "execution_count": null,
   "id": "ee6f7bb0",
   "metadata": {},
   "outputs": [],
   "source": [
    "print('Average socre: ', scores.mean())"
   ]
  },
  {
   "cell_type": "code",
   "execution_count": null,
   "id": "b4f0f131",
   "metadata": {},
   "outputs": [],
   "source": [
    "\n",
    "\n",
    "from sklearn.model_selection import cross_validate\n",
    "\n",
    "clf = tree.DecisionTreeClassifier(min_samples_leaf=10)\n",
    "cv_results = cross_validate(clf, X_train, y_train, cv=10, return_estimator=True)\n"
   ]
  },
  {
   "cell_type": "code",
   "execution_count": null,
   "id": "6e8d41b5",
   "metadata": {},
   "outputs": [],
   "source": [
    "type(cv_results)"
   ]
  },
  {
   "cell_type": "code",
   "execution_count": null,
   "id": "ca734093",
   "metadata": {},
   "outputs": [],
   "source": [
    "cv_results.keys()"
   ]
  },
  {
   "cell_type": "code",
   "execution_count": null,
   "id": "142109c1",
   "metadata": {},
   "outputs": [],
   "source": [
    "cv_results['test_score']"
   ]
  },
  {
   "cell_type": "code",
   "execution_count": null,
   "id": "9a2c3c67",
   "metadata": {},
   "outputs": [],
   "source": [
    "print('Mean score: ', cv_results['test_score'].mean())"
   ]
  },
  {
   "cell_type": "code",
   "execution_count": null,
   "id": "4482cdd6",
   "metadata": {},
   "outputs": [],
   "source": [
    "cv_results['estimator'][0]"
   ]
  },
  {
   "cell_type": "code",
   "execution_count": null,
   "id": "f1aab4f0",
   "metadata": {},
   "outputs": [],
   "source": [
    "from sklearn.metrics import roc_auc_score\n",
    "from sklearn.metrics import accuracy_score\n",
    "from sklearn.metrics import f1_score\n",
    "scoring =['roc_auc', 'accuracy', 'f1']\n",
    "scores = cross_validate(clf, X_train, y_train, cv=10, scoring = scoring)"
   ]
  },
  {
   "cell_type": "code",
   "execution_count": null,
   "id": "271730bd",
   "metadata": {},
   "outputs": [],
   "source": [
    "scores.keys()"
   ]
  },
  {
   "cell_type": "code",
   "execution_count": null,
   "id": "17592f19",
   "metadata": {},
   "outputs": [],
   "source": [
    "scores['test_roc_auc'].mean()\n"
   ]
  },
  {
   "cell_type": "code",
   "execution_count": null,
   "id": "dbcb9e9f",
   "metadata": {},
   "outputs": [],
   "source": [
    "scores['test_accuracy'].mean()"
   ]
  },
  {
   "cell_type": "code",
   "execution_count": null,
   "id": "6f4ff8ea",
   "metadata": {},
   "outputs": [],
   "source": [
    "scores['test_f1'].mean()"
   ]
  },
  {
   "cell_type": "code",
   "execution_count": null,
   "id": "5e15cb2b",
   "metadata": {},
   "outputs": [],
   "source": [
    "testscores =[]\n",
    "for i in range(len(cv_results['estimator'])):\n",
    "    testscores.append(cv_results['estimator'][i].score(X_test, y_test))"
   ]
  },
  {
   "cell_type": "code",
   "execution_count": null,
   "id": "3bc9c227",
   "metadata": {},
   "outputs": [],
   "source": [
    "testscores"
   ]
  },
  {
   "cell_type": "code",
   "execution_count": null,
   "id": "b2b20d35",
   "metadata": {},
   "outputs": [],
   "source": [
    "y_pred = cv_results['estimator'][0].predict(X_test)"
   ]
  },
  {
   "cell_type": "code",
   "execution_count": null,
   "id": "e2b0d002",
   "metadata": {},
   "outputs": [],
   "source": [
    "probabilities = cv_results['estimator'][0].predict_proba(X_test)\n",
    "print(probabilities)"
   ]
  },
  {
   "cell_type": "code",
   "execution_count": null,
   "id": "18d92b72",
   "metadata": {},
   "outputs": [],
   "source": []
  }
 ],
 "metadata": {
  "kernelspec": {
   "display_name": "Python 3 (ipykernel)",
   "language": "python",
   "name": "python3"
  },
  "language_info": {
   "codemirror_mode": {
    "name": "ipython",
    "version": 3
   },
   "file_extension": ".py",
   "mimetype": "text/x-python",
   "name": "python",
   "nbconvert_exporter": "python",
   "pygments_lexer": "ipython3",
   "version": "3.9.13"
  }
 },
 "nbformat": 4,
 "nbformat_minor": 5
}
