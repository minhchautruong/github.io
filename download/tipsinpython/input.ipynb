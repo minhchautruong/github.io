{
 "cells": [
  {
   "cell_type": "code",
   "execution_count": 1,
   "id": "87a3deb1",
   "metadata": {},
   "outputs": [
    {
     "name": "stdout",
     "output_type": "stream",
     "text": [
      "How old are you? a\n",
      "Your age should be a positive integer\n"
     ]
    },
    {
     "ename": "NameError",
     "evalue": "name 'age' is not defined",
     "output_type": "error",
     "traceback": [
      "\u001b[1;31m---------------------------------------------------------------------------\u001b[0m",
      "\u001b[1;31mNameError\u001b[0m                                 Traceback (most recent call last)",
      "\u001b[1;32m~\\AppData\\Local\\Temp\\ipykernel_4732\\982295183.py\u001b[0m in \u001b[0;36m<module>\u001b[1;34m\u001b[0m\n\u001b[0;32m      3\u001b[0m \u001b[1;32mexcept\u001b[0m\u001b[1;33m:\u001b[0m\u001b[1;33m\u001b[0m\u001b[1;33m\u001b[0m\u001b[0m\n\u001b[0;32m      4\u001b[0m     \u001b[0mprint\u001b[0m\u001b[1;33m(\u001b[0m\u001b[1;34m\"Your age should be a positive integer\"\u001b[0m\u001b[1;33m)\u001b[0m\u001b[1;33m\u001b[0m\u001b[1;33m\u001b[0m\u001b[0m\n\u001b[1;32m----> 5\u001b[1;33m \u001b[0mprint\u001b[0m\u001b[1;33m(\u001b[0m\u001b[1;34m\"Your age is: \"\u001b[0m\u001b[1;33m,\u001b[0m \u001b[0mage\u001b[0m\u001b[1;33m)\u001b[0m\u001b[1;33m\u001b[0m\u001b[1;33m\u001b[0m\u001b[0m\n\u001b[0m",
      "\u001b[1;31mNameError\u001b[0m: name 'age' is not defined"
     ]
    }
   ],
   "source": [
    "try:\n",
    "    age = int(input(\"How old are you? \"))\n",
    "except:\n",
    "    print(\"Your age should be a positive integer\")\n",
    "print(\"Your age is: \", age)"
   ]
  },
  {
   "cell_type": "code",
   "execution_count": 3,
   "id": "ace30856",
   "metadata": {},
   "outputs": [
    {
     "name": "stdout",
     "output_type": "stream",
     "text": [
      "How old are you? -20\n",
      "Your age is:  -20\n"
     ]
    }
   ],
   "source": [
    "correct = True\n",
    "while correct == True:\n",
    "    try:\n",
    "        age = int(input(\"How old are you? \"))\n",
    "        break\n",
    "    except:\n",
    "        print(\"Your age should be a positive integer\")\n",
    "print(\"Your age is: \", age)"
   ]
  },
  {
   "cell_type": "code",
   "execution_count": 4,
   "id": "8126c1f8",
   "metadata": {},
   "outputs": [
    {
     "name": "stdout",
     "output_type": "stream",
     "text": [
      "How old are you? a\n",
      "Your age should be a positive integer\n",
      "How old are you? 0\n",
      "you age should be higher than zero\n",
      "How old are you? -8\n",
      "you age should be higher than zero\n",
      "How old are you? 20\n",
      "Your age is:  20\n"
     ]
    }
   ],
   "source": [
    "correct = True\n",
    "while correct == True:\n",
    "    try:\n",
    "        age = int(input(\"How old are you? \"))\n",
    "        if age > 0:\n",
    "            break\n",
    "        else:\n",
    "            print(\"you age should be higher than zero\")\n",
    "    except:\n",
    "        print(\"Your age should be a positive integer\")\n",
    "print(\"Your age is: \", age)"
   ]
  },
  {
   "cell_type": "code",
   "execution_count": 5,
   "id": "0053fd62",
   "metadata": {},
   "outputs": [
    {
     "name": "stdout",
     "output_type": "stream",
     "text": [
      "How old are you? a\n",
      "Your age should be a positive integer\n",
      "How old are you? 2\n",
      "How old are you? 8\n",
      "How old are you? 5\n",
      "How old are you? 100\n",
      "How old are you? 7\n",
      "[2, 8, 5, 100, 7]\n"
     ]
    }
   ],
   "source": [
    "#Nhập 5 số nguyên dương\n",
    "n = 5\n",
    "num_list= []\n",
    "for i in range(5):\n",
    "    correct = True\n",
    "    while correct == True:\n",
    "        try:\n",
    "            age = int(input(\"How old are you? \"))\n",
    "            if age > 0:\n",
    "                num_list.append(age)\n",
    "                break\n",
    "            else:\n",
    "                print(\"you age should be higher than zero\")\n",
    "        except:\n",
    "            print(\"Your age should be a positive integer\")\n",
    "print(num_list)"
   ]
  },
  {
   "cell_type": "code",
   "execution_count": null,
   "id": "d7c718fc",
   "metadata": {},
   "outputs": [],
   "source": []
  }
 ],
 "metadata": {
  "kernelspec": {
   "display_name": "Python 3 (ipykernel)",
   "language": "python",
   "name": "python3"
  },
  "language_info": {
   "codemirror_mode": {
    "name": "ipython",
    "version": 3
   },
   "file_extension": ".py",
   "mimetype": "text/x-python",
   "name": "python",
   "nbconvert_exporter": "python",
   "pygments_lexer": "ipython3",
   "version": "3.9.13"
  }
 },
 "nbformat": 4,
 "nbformat_minor": 5
}
